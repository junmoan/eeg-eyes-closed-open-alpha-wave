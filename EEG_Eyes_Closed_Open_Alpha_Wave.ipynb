{
  "nbformat": 4,
  "nbformat_minor": 0,
  "metadata": {
    "colab": {
      "name": "EEG_Eyes_Closed_Open_Alpha_Wave.ipynb",
      "provenance": [],
      "collapsed_sections": []
    },
    "kernelspec": {
      "name": "python3",
      "display_name": "Python 3"
    }
  },
  "cells": [
    {
      "cell_type": "code",
      "metadata": {
        "id": "lT4aUTldS4Bx"
      },
      "source": [
        "# Import the machine learning libraries.\n",
        "import pandas as pd\n",
        "import numpy as np\n",
        "import os\n",
        "import matplotlib.pyplot as plt\n",
        "%matplotlib inline\n",
        "from scipy import signal"
      ],
      "execution_count": null,
      "outputs": []
    },
    {
      "cell_type": "code",
      "metadata": {
        "id": "56A54UDTUHFP",
        "outputId": "8578ad8a-3889-4685-8e8b-7130ed467ae3",
        "colab": {
          "base_uri": "https://localhost:8080/",
          "height": 85
        }
      },
      "source": [
        "for dirname, _, filenames in os.walk('/data'):\n",
        "    for filename in filenames:\n",
        "        print(os.path.join(dirname, filename))"
      ],
      "execution_count": null,
      "outputs": [
        {
          "output_type": "stream",
          "text": [
            "/content/drive/My Drive/ML_Code/EEG - alpha waves/data/OpenBCI-RAW-2020-03-05_13-51-53.txt\n",
            "/content/drive/My Drive/ML_Code/EEG - alpha waves/data/OpenBCI-RAW-2020-03-07_16-04-39.txt\n",
            "/content/drive/My Drive/ML_Code/EEG - alpha waves/data/OpenBCI-RAW-2020-03-10_08-53-44.txt\n",
            "/content/drive/My Drive/ML_Code/EEG - alpha waves/data/OpenBCI-RAW-2020-03-09_19-05-39.txt\n"
          ],
          "name": "stdout"
        }
      ]
    },
    {
      "cell_type": "code",
      "metadata": {
        "id": "ZUDTL7e7Ut8-",
        "outputId": "a8f58f11-0eaa-4ce0-bcd3-5eb4a2112d72",
        "colab": {
          "base_uri": "https://localhost:8080/",
          "height": 204
        }
      },
      "source": [
        "# Load the dataset.\n",
        "# The dataset can be downloaded here: https://www.kaggle.com/latimerb/eeg-leftright.\n",
        "df = pd.read_csv('/data/OpenBCI-RAW-2020-03-10_08-53-44.txt', skiprows=6, header=None)\n",
        "df.head()"
      ],
      "execution_count": null,
      "outputs": [
        {
          "output_type": "execute_result",
          "data": {
            "text/html": [
              "<div>\n",
              "<style scoped>\n",
              "    .dataframe tbody tr th:only-of-type {\n",
              "        vertical-align: middle;\n",
              "    }\n",
              "\n",
              "    .dataframe tbody tr th {\n",
              "        vertical-align: top;\n",
              "    }\n",
              "\n",
              "    .dataframe thead th {\n",
              "        text-align: right;\n",
              "    }\n",
              "</style>\n",
              "<table border=\"1\" class=\"dataframe\">\n",
              "  <thead>\n",
              "    <tr style=\"text-align: right;\">\n",
              "      <th></th>\n",
              "      <th>0</th>\n",
              "      <th>1</th>\n",
              "      <th>2</th>\n",
              "      <th>3</th>\n",
              "      <th>4</th>\n",
              "      <th>5</th>\n",
              "      <th>6</th>\n",
              "      <th>7</th>\n",
              "      <th>8</th>\n",
              "      <th>9</th>\n",
              "    </tr>\n",
              "  </thead>\n",
              "  <tbody>\n",
              "    <tr>\n",
              "      <th>0</th>\n",
              "      <td>0</td>\n",
              "      <td>-76.20</td>\n",
              "      <td>1.38</td>\n",
              "      <td>-34.35</td>\n",
              "      <td>-51.09</td>\n",
              "      <td>0.912</td>\n",
              "      <td>0.112</td>\n",
              "      <td>-0.464</td>\n",
              "      <td>08:54:30.263</td>\n",
              "      <td>1.583848e+12</td>\n",
              "    </tr>\n",
              "    <tr>\n",
              "      <th>1</th>\n",
              "      <td>1</td>\n",
              "      <td>-36.12</td>\n",
              "      <td>29.01</td>\n",
              "      <td>76.34</td>\n",
              "      <td>48.51</td>\n",
              "      <td>0.912</td>\n",
              "      <td>0.112</td>\n",
              "      <td>-0.464</td>\n",
              "      <td>08:54:30.263</td>\n",
              "      <td>1.583848e+12</td>\n",
              "    </tr>\n",
              "    <tr>\n",
              "      <th>2</th>\n",
              "      <td>2</td>\n",
              "      <td>-43.59</td>\n",
              "      <td>31.42</td>\n",
              "      <td>58.11</td>\n",
              "      <td>30.55</td>\n",
              "      <td>0.912</td>\n",
              "      <td>0.112</td>\n",
              "      <td>-0.464</td>\n",
              "      <td>08:54:30.263</td>\n",
              "      <td>1.583848e+12</td>\n",
              "    </tr>\n",
              "    <tr>\n",
              "      <th>3</th>\n",
              "      <td>3</td>\n",
              "      <td>-77.29</td>\n",
              "      <td>2.68</td>\n",
              "      <td>-19.45</td>\n",
              "      <td>-49.45</td>\n",
              "      <td>0.912</td>\n",
              "      <td>0.112</td>\n",
              "      <td>-0.464</td>\n",
              "      <td>08:54:30.274</td>\n",
              "      <td>1.583848e+12</td>\n",
              "    </tr>\n",
              "    <tr>\n",
              "      <th>4</th>\n",
              "      <td>4</td>\n",
              "      <td>-57.05</td>\n",
              "      <td>17.48</td>\n",
              "      <td>52.08</td>\n",
              "      <td>23.03</td>\n",
              "      <td>0.912</td>\n",
              "      <td>0.112</td>\n",
              "      <td>-0.464</td>\n",
              "      <td>08:54:30.274</td>\n",
              "      <td>1.583848e+12</td>\n",
              "    </tr>\n",
              "  </tbody>\n",
              "</table>\n",
              "</div>"
            ],
            "text/plain": [
              "   0      1      2      3  ...      6      7              8             9\n",
              "0  0 -76.20   1.38 -34.35  ...  0.112 -0.464   08:54:30.263  1.583848e+12\n",
              "1  1 -36.12  29.01  76.34  ...  0.112 -0.464   08:54:30.263  1.583848e+12\n",
              "2  2 -43.59  31.42  58.11  ...  0.112 -0.464   08:54:30.263  1.583848e+12\n",
              "3  3 -77.29   2.68 -19.45  ...  0.112 -0.464   08:54:30.274  1.583848e+12\n",
              "4  4 -57.05  17.48  52.08  ...  0.112 -0.464   08:54:30.274  1.583848e+12\n",
              "\n",
              "[5 rows x 10 columns]"
            ]
          },
          "metadata": {
            "tags": []
          },
          "execution_count": 142
        }
      ]
    },
    {
      "cell_type": "code",
      "metadata": {
        "id": "ctj0JuDbVhz8",
        "outputId": "b183685b-6e53-421a-aa00-1fb03a51ea3c",
        "colab": {
          "base_uri": "https://localhost:8080/",
          "height": 204
        }
      },
      "source": [
        "df.tail()"
      ],
      "execution_count": null,
      "outputs": [
        {
          "output_type": "execute_result",
          "data": {
            "text/html": [
              "<div>\n",
              "<style scoped>\n",
              "    .dataframe tbody tr th:only-of-type {\n",
              "        vertical-align: middle;\n",
              "    }\n",
              "\n",
              "    .dataframe tbody tr th {\n",
              "        vertical-align: top;\n",
              "    }\n",
              "\n",
              "    .dataframe thead th {\n",
              "        text-align: right;\n",
              "    }\n",
              "</style>\n",
              "<table border=\"1\" class=\"dataframe\">\n",
              "  <thead>\n",
              "    <tr style=\"text-align: right;\">\n",
              "      <th></th>\n",
              "      <th>0</th>\n",
              "      <th>1</th>\n",
              "      <th>2</th>\n",
              "      <th>3</th>\n",
              "      <th>4</th>\n",
              "      <th>5</th>\n",
              "      <th>6</th>\n",
              "      <th>7</th>\n",
              "      <th>8</th>\n",
              "      <th>9</th>\n",
              "    </tr>\n",
              "  </thead>\n",
              "  <tbody>\n",
              "    <tr>\n",
              "      <th>126197</th>\n",
              "      <td>186</td>\n",
              "      <td>-150.14</td>\n",
              "      <td>5.43</td>\n",
              "      <td>-54.55</td>\n",
              "      <td>-62.44</td>\n",
              "      <td>0.928</td>\n",
              "      <td>0.08</td>\n",
              "      <td>-0.432</td>\n",
              "      <td>09:05:01.310</td>\n",
              "      <td>1.583849e+12</td>\n",
              "    </tr>\n",
              "    <tr>\n",
              "      <th>126198</th>\n",
              "      <td>187</td>\n",
              "      <td>-131.62</td>\n",
              "      <td>31.35</td>\n",
              "      <td>7.29</td>\n",
              "      <td>2.35</td>\n",
              "      <td>0.928</td>\n",
              "      <td>0.08</td>\n",
              "      <td>-0.432</td>\n",
              "      <td>09:05:01.319</td>\n",
              "      <td>1.583849e+12</td>\n",
              "    </tr>\n",
              "    <tr>\n",
              "      <th>126199</th>\n",
              "      <td>188</td>\n",
              "      <td>-154.50</td>\n",
              "      <td>15.77</td>\n",
              "      <td>-37.74</td>\n",
              "      <td>-37.31</td>\n",
              "      <td>0.928</td>\n",
              "      <td>0.08</td>\n",
              "      <td>-0.432</td>\n",
              "      <td>09:05:01.319</td>\n",
              "      <td>1.583849e+12</td>\n",
              "    </tr>\n",
              "    <tr>\n",
              "      <th>126200</th>\n",
              "      <td>189</td>\n",
              "      <td>-167.38</td>\n",
              "      <td>-2.19</td>\n",
              "      <td>-79.60</td>\n",
              "      <td>-85.61</td>\n",
              "      <td>0.928</td>\n",
              "      <td>0.08</td>\n",
              "      <td>-0.432</td>\n",
              "      <td>09:05:01.354</td>\n",
              "      <td>1.583849e+12</td>\n",
              "    </tr>\n",
              "    <tr>\n",
              "      <th>126201</th>\n",
              "      <td>190</td>\n",
              "      <td>-147.97</td>\n",
              "      <td>13.78</td>\n",
              "      <td>-9.47</td>\n",
              "      <td>-16.25</td>\n",
              "      <td>0.928</td>\n",
              "      <td>0.08</td>\n",
              "      <td>-0.432</td>\n",
              "      <td>0</td>\n",
              "      <td>NaN</td>\n",
              "    </tr>\n",
              "  </tbody>\n",
              "</table>\n",
              "</div>"
            ],
            "text/plain": [
              "          0       1      2      3  ...     6      7              8             9\n",
              "126197  186 -150.14   5.43 -54.55  ...  0.08 -0.432   09:05:01.310  1.583849e+12\n",
              "126198  187 -131.62  31.35   7.29  ...  0.08 -0.432   09:05:01.319  1.583849e+12\n",
              "126199  188 -154.50  15.77 -37.74  ...  0.08 -0.432   09:05:01.319  1.583849e+12\n",
              "126200  189 -167.38  -2.19 -79.60  ...  0.08 -0.432   09:05:01.354  1.583849e+12\n",
              "126201  190 -147.97  13.78  -9.47  ...  0.08 -0.432              0           NaN\n",
              "\n",
              "[5 rows x 10 columns]"
            ]
          },
          "metadata": {
            "tags": []
          },
          "execution_count": 143
        }
      ]
    },
    {
      "cell_type": "code",
      "metadata": {
        "id": "SfSHO7VsUY8q",
        "outputId": "9dd30291-d30e-494d-c958-caa8ffb1fd8a",
        "colab": {
          "base_uri": "https://localhost:8080/",
          "height": 204
        }
      },
      "source": [
        "df.columns=['index', 'channel1', 'channel2', 'channel3', 'channel4', 'acc1', 'acc2', 'acc3', 'time_std', 'timestamp']\n",
        "df.drop(['index'], axis=1, inplace=True)\n",
        "df.head()"
      ],
      "execution_count": null,
      "outputs": [
        {
          "output_type": "execute_result",
          "data": {
            "text/html": [
              "<div>\n",
              "<style scoped>\n",
              "    .dataframe tbody tr th:only-of-type {\n",
              "        vertical-align: middle;\n",
              "    }\n",
              "\n",
              "    .dataframe tbody tr th {\n",
              "        vertical-align: top;\n",
              "    }\n",
              "\n",
              "    .dataframe thead th {\n",
              "        text-align: right;\n",
              "    }\n",
              "</style>\n",
              "<table border=\"1\" class=\"dataframe\">\n",
              "  <thead>\n",
              "    <tr style=\"text-align: right;\">\n",
              "      <th></th>\n",
              "      <th>channel1</th>\n",
              "      <th>channel2</th>\n",
              "      <th>channel3</th>\n",
              "      <th>channel4</th>\n",
              "      <th>acc1</th>\n",
              "      <th>acc2</th>\n",
              "      <th>acc3</th>\n",
              "      <th>time_std</th>\n",
              "      <th>timestamp</th>\n",
              "    </tr>\n",
              "  </thead>\n",
              "  <tbody>\n",
              "    <tr>\n",
              "      <th>0</th>\n",
              "      <td>-76.20</td>\n",
              "      <td>1.38</td>\n",
              "      <td>-34.35</td>\n",
              "      <td>-51.09</td>\n",
              "      <td>0.912</td>\n",
              "      <td>0.112</td>\n",
              "      <td>-0.464</td>\n",
              "      <td>08:54:30.263</td>\n",
              "      <td>1.583848e+12</td>\n",
              "    </tr>\n",
              "    <tr>\n",
              "      <th>1</th>\n",
              "      <td>-36.12</td>\n",
              "      <td>29.01</td>\n",
              "      <td>76.34</td>\n",
              "      <td>48.51</td>\n",
              "      <td>0.912</td>\n",
              "      <td>0.112</td>\n",
              "      <td>-0.464</td>\n",
              "      <td>08:54:30.263</td>\n",
              "      <td>1.583848e+12</td>\n",
              "    </tr>\n",
              "    <tr>\n",
              "      <th>2</th>\n",
              "      <td>-43.59</td>\n",
              "      <td>31.42</td>\n",
              "      <td>58.11</td>\n",
              "      <td>30.55</td>\n",
              "      <td>0.912</td>\n",
              "      <td>0.112</td>\n",
              "      <td>-0.464</td>\n",
              "      <td>08:54:30.263</td>\n",
              "      <td>1.583848e+12</td>\n",
              "    </tr>\n",
              "    <tr>\n",
              "      <th>3</th>\n",
              "      <td>-77.29</td>\n",
              "      <td>2.68</td>\n",
              "      <td>-19.45</td>\n",
              "      <td>-49.45</td>\n",
              "      <td>0.912</td>\n",
              "      <td>0.112</td>\n",
              "      <td>-0.464</td>\n",
              "      <td>08:54:30.274</td>\n",
              "      <td>1.583848e+12</td>\n",
              "    </tr>\n",
              "    <tr>\n",
              "      <th>4</th>\n",
              "      <td>-57.05</td>\n",
              "      <td>17.48</td>\n",
              "      <td>52.08</td>\n",
              "      <td>23.03</td>\n",
              "      <td>0.912</td>\n",
              "      <td>0.112</td>\n",
              "      <td>-0.464</td>\n",
              "      <td>08:54:30.274</td>\n",
              "      <td>1.583848e+12</td>\n",
              "    </tr>\n",
              "  </tbody>\n",
              "</table>\n",
              "</div>"
            ],
            "text/plain": [
              "   channel1  channel2  channel3  ...   acc3       time_std     timestamp\n",
              "0    -76.20      1.38    -34.35  ... -0.464   08:54:30.263  1.583848e+12\n",
              "1    -36.12     29.01     76.34  ... -0.464   08:54:30.263  1.583848e+12\n",
              "2    -43.59     31.42     58.11  ... -0.464   08:54:30.263  1.583848e+12\n",
              "3    -77.29      2.68    -19.45  ... -0.464   08:54:30.274  1.583848e+12\n",
              "4    -57.05     17.48     52.08  ... -0.464   08:54:30.274  1.583848e+12\n",
              "\n",
              "[5 rows x 9 columns]"
            ]
          },
          "metadata": {
            "tags": []
          },
          "execution_count": 144
        }
      ]
    },
    {
      "cell_type": "code",
      "metadata": {
        "id": "eukN4z84V3ck",
        "outputId": "c93d0056-0642-4bad-bbd9-ba69db09a660",
        "colab": {
          "base_uri": "https://localhost:8080/",
          "height": 297
        }
      },
      "source": [
        "df.describe()"
      ],
      "execution_count": null,
      "outputs": [
        {
          "output_type": "execute_result",
          "data": {
            "text/html": [
              "<div>\n",
              "<style scoped>\n",
              "    .dataframe tbody tr th:only-of-type {\n",
              "        vertical-align: middle;\n",
              "    }\n",
              "\n",
              "    .dataframe tbody tr th {\n",
              "        vertical-align: top;\n",
              "    }\n",
              "\n",
              "    .dataframe thead th {\n",
              "        text-align: right;\n",
              "    }\n",
              "</style>\n",
              "<table border=\"1\" class=\"dataframe\">\n",
              "  <thead>\n",
              "    <tr style=\"text-align: right;\">\n",
              "      <th></th>\n",
              "      <th>channel1</th>\n",
              "      <th>channel2</th>\n",
              "      <th>channel3</th>\n",
              "      <th>channel4</th>\n",
              "      <th>acc1</th>\n",
              "      <th>acc2</th>\n",
              "      <th>acc3</th>\n",
              "      <th>timestamp</th>\n",
              "    </tr>\n",
              "  </thead>\n",
              "  <tbody>\n",
              "    <tr>\n",
              "      <th>count</th>\n",
              "      <td>126202.000000</td>\n",
              "      <td>126202.000000</td>\n",
              "      <td>126202.000000</td>\n",
              "      <td>126202.000000</td>\n",
              "      <td>126202.000000</td>\n",
              "      <td>126202.000000</td>\n",
              "      <td>126202.000000</td>\n",
              "      <td>1.262010e+05</td>\n",
              "    </tr>\n",
              "    <tr>\n",
              "      <th>mean</th>\n",
              "      <td>-103.173548</td>\n",
              "      <td>32.431461</td>\n",
              "      <td>-20.701911</td>\n",
              "      <td>-19.682506</td>\n",
              "      <td>0.969857</td>\n",
              "      <td>0.106839</td>\n",
              "      <td>-0.336448</td>\n",
              "      <td>1.583849e+12</td>\n",
              "    </tr>\n",
              "    <tr>\n",
              "      <th>std</th>\n",
              "      <td>54.245990</td>\n",
              "      <td>46.563374</td>\n",
              "      <td>58.466107</td>\n",
              "      <td>54.028641</td>\n",
              "      <td>0.024847</td>\n",
              "      <td>0.014349</td>\n",
              "      <td>0.063822</td>\n",
              "      <td>1.821749e+05</td>\n",
              "    </tr>\n",
              "    <tr>\n",
              "      <th>min</th>\n",
              "      <td>-652.720000</td>\n",
              "      <td>-470.980000</td>\n",
              "      <td>-703.690000</td>\n",
              "      <td>-564.660000</td>\n",
              "      <td>0.912000</td>\n",
              "      <td>0.080000</td>\n",
              "      <td>-0.464000</td>\n",
              "      <td>1.583848e+12</td>\n",
              "    </tr>\n",
              "    <tr>\n",
              "      <th>25%</th>\n",
              "      <td>-127.000000</td>\n",
              "      <td>19.430000</td>\n",
              "      <td>-49.897500</td>\n",
              "      <td>-53.080000</td>\n",
              "      <td>0.944000</td>\n",
              "      <td>0.096000</td>\n",
              "      <td>-0.400000</td>\n",
              "      <td>1.583849e+12</td>\n",
              "    </tr>\n",
              "    <tr>\n",
              "      <th>50%</th>\n",
              "      <td>-106.820000</td>\n",
              "      <td>30.100000</td>\n",
              "      <td>-17.220000</td>\n",
              "      <td>-20.210000</td>\n",
              "      <td>0.976000</td>\n",
              "      <td>0.112000</td>\n",
              "      <td>-0.320000</td>\n",
              "      <td>1.583849e+12</td>\n",
              "    </tr>\n",
              "    <tr>\n",
              "      <th>75%</th>\n",
              "      <td>-77.520000</td>\n",
              "      <td>41.150000</td>\n",
              "      <td>13.350000</td>\n",
              "      <td>10.050000</td>\n",
              "      <td>0.992000</td>\n",
              "      <td>0.112000</td>\n",
              "      <td>-0.288000</td>\n",
              "      <td>1.583849e+12</td>\n",
              "    </tr>\n",
              "    <tr>\n",
              "      <th>max</th>\n",
              "      <td>513.310000</td>\n",
              "      <td>545.570000</td>\n",
              "      <td>205.690000</td>\n",
              "      <td>500.740000</td>\n",
              "      <td>1.008000</td>\n",
              "      <td>0.128000</td>\n",
              "      <td>0.768000</td>\n",
              "      <td>1.583849e+12</td>\n",
              "    </tr>\n",
              "  </tbody>\n",
              "</table>\n",
              "</div>"
            ],
            "text/plain": [
              "            channel1       channel2  ...           acc3     timestamp\n",
              "count  126202.000000  126202.000000  ...  126202.000000  1.262010e+05\n",
              "mean     -103.173548      32.431461  ...      -0.336448  1.583849e+12\n",
              "std        54.245990      46.563374  ...       0.063822  1.821749e+05\n",
              "min      -652.720000    -470.980000  ...      -0.464000  1.583848e+12\n",
              "25%      -127.000000      19.430000  ...      -0.400000  1.583849e+12\n",
              "50%      -106.820000      30.100000  ...      -0.320000  1.583849e+12\n",
              "75%       -77.520000      41.150000  ...      -0.288000  1.583849e+12\n",
              "max       513.310000     545.570000  ...       0.768000  1.583849e+12\n",
              "\n",
              "[8 rows x 8 columns]"
            ]
          },
          "metadata": {
            "tags": []
          },
          "execution_count": 145
        }
      ]
    },
    {
      "cell_type": "code",
      "metadata": {
        "id": "WGTMaxmpWIfW",
        "outputId": "a4d4ce6b-b9cc-44f5-d72e-b759ca5777ba",
        "colab": {
          "base_uri": "https://localhost:8080/",
          "height": 289
        }
      },
      "source": [
        "df.info()"
      ],
      "execution_count": null,
      "outputs": [
        {
          "output_type": "stream",
          "text": [
            "<class 'pandas.core.frame.DataFrame'>\n",
            "RangeIndex: 126202 entries, 0 to 126201\n",
            "Data columns (total 9 columns):\n",
            " #   Column     Non-Null Count   Dtype  \n",
            "---  ------     --------------   -----  \n",
            " 0   channel1   126202 non-null  float64\n",
            " 1   channel2   126202 non-null  float64\n",
            " 2   channel3   126202 non-null  float64\n",
            " 3   channel4   126202 non-null  float64\n",
            " 4   acc1       126202 non-null  float64\n",
            " 5   acc2       126202 non-null  float64\n",
            " 6   acc3       126202 non-null  float64\n",
            " 7   time_std   126202 non-null  object \n",
            " 8   timestamp  126201 non-null  float64\n",
            "dtypes: float64(8), object(1)\n",
            "memory usage: 8.7+ MB\n"
          ],
          "name": "stdout"
        }
      ]
    },
    {
      "cell_type": "code",
      "metadata": {
        "id": "csEHNWEsWOg4",
        "outputId": "88ff60e6-7f70-48f9-b137-b7abfd4aae05",
        "colab": {
          "base_uri": "https://localhost:8080/",
          "height": 297
        }
      },
      "source": [
        "# Check correlation.\n",
        "corr = df.corr()\n",
        "corr"
      ],
      "execution_count": null,
      "outputs": [
        {
          "output_type": "execute_result",
          "data": {
            "text/html": [
              "<div>\n",
              "<style scoped>\n",
              "    .dataframe tbody tr th:only-of-type {\n",
              "        vertical-align: middle;\n",
              "    }\n",
              "\n",
              "    .dataframe tbody tr th {\n",
              "        vertical-align: top;\n",
              "    }\n",
              "\n",
              "    .dataframe thead th {\n",
              "        text-align: right;\n",
              "    }\n",
              "</style>\n",
              "<table border=\"1\" class=\"dataframe\">\n",
              "  <thead>\n",
              "    <tr style=\"text-align: right;\">\n",
              "      <th></th>\n",
              "      <th>channel1</th>\n",
              "      <th>channel2</th>\n",
              "      <th>channel3</th>\n",
              "      <th>channel4</th>\n",
              "      <th>acc1</th>\n",
              "      <th>acc2</th>\n",
              "      <th>acc3</th>\n",
              "      <th>timestamp</th>\n",
              "    </tr>\n",
              "  </thead>\n",
              "  <tbody>\n",
              "    <tr>\n",
              "      <th>channel1</th>\n",
              "      <td>1.000000</td>\n",
              "      <td>0.072734</td>\n",
              "      <td>0.555519</td>\n",
              "      <td>0.328477</td>\n",
              "      <td>-0.099846</td>\n",
              "      <td>0.411052</td>\n",
              "      <td>-0.073951</td>\n",
              "      <td>-0.510719</td>\n",
              "    </tr>\n",
              "    <tr>\n",
              "      <th>channel2</th>\n",
              "      <td>0.072734</td>\n",
              "      <td>1.000000</td>\n",
              "      <td>-0.113105</td>\n",
              "      <td>0.293359</td>\n",
              "      <td>-0.003785</td>\n",
              "      <td>0.147771</td>\n",
              "      <td>0.010482</td>\n",
              "      <td>-0.164420</td>\n",
              "    </tr>\n",
              "    <tr>\n",
              "      <th>channel3</th>\n",
              "      <td>0.555519</td>\n",
              "      <td>-0.113105</td>\n",
              "      <td>1.000000</td>\n",
              "      <td>0.474178</td>\n",
              "      <td>-0.000864</td>\n",
              "      <td>0.151336</td>\n",
              "      <td>0.006523</td>\n",
              "      <td>-0.174436</td>\n",
              "    </tr>\n",
              "    <tr>\n",
              "      <th>channel4</th>\n",
              "      <td>0.328477</td>\n",
              "      <td>0.293359</td>\n",
              "      <td>0.474178</td>\n",
              "      <td>1.000000</td>\n",
              "      <td>-0.048344</td>\n",
              "      <td>0.167602</td>\n",
              "      <td>-0.041490</td>\n",
              "      <td>-0.217133</td>\n",
              "    </tr>\n",
              "    <tr>\n",
              "      <th>acc1</th>\n",
              "      <td>-0.099846</td>\n",
              "      <td>-0.003785</td>\n",
              "      <td>-0.000864</td>\n",
              "      <td>-0.048344</td>\n",
              "      <td>1.000000</td>\n",
              "      <td>0.219740</td>\n",
              "      <td>0.950150</td>\n",
              "      <td>-0.024125</td>\n",
              "    </tr>\n",
              "    <tr>\n",
              "      <th>acc2</th>\n",
              "      <td>0.411052</td>\n",
              "      <td>0.147771</td>\n",
              "      <td>0.151336</td>\n",
              "      <td>0.167602</td>\n",
              "      <td>0.219740</td>\n",
              "      <td>1.000000</td>\n",
              "      <td>0.294107</td>\n",
              "      <td>-0.802856</td>\n",
              "    </tr>\n",
              "    <tr>\n",
              "      <th>acc3</th>\n",
              "      <td>-0.073951</td>\n",
              "      <td>0.010482</td>\n",
              "      <td>0.006523</td>\n",
              "      <td>-0.041490</td>\n",
              "      <td>0.950150</td>\n",
              "      <td>0.294107</td>\n",
              "      <td>1.000000</td>\n",
              "      <td>-0.106986</td>\n",
              "    </tr>\n",
              "    <tr>\n",
              "      <th>timestamp</th>\n",
              "      <td>-0.510719</td>\n",
              "      <td>-0.164420</td>\n",
              "      <td>-0.174436</td>\n",
              "      <td>-0.217133</td>\n",
              "      <td>-0.024125</td>\n",
              "      <td>-0.802856</td>\n",
              "      <td>-0.106986</td>\n",
              "      <td>1.000000</td>\n",
              "    </tr>\n",
              "  </tbody>\n",
              "</table>\n",
              "</div>"
            ],
            "text/plain": [
              "           channel1  channel2  channel3  ...      acc2      acc3  timestamp\n",
              "channel1   1.000000  0.072734  0.555519  ...  0.411052 -0.073951  -0.510719\n",
              "channel2   0.072734  1.000000 -0.113105  ...  0.147771  0.010482  -0.164420\n",
              "channel3   0.555519 -0.113105  1.000000  ...  0.151336  0.006523  -0.174436\n",
              "channel4   0.328477  0.293359  0.474178  ...  0.167602 -0.041490  -0.217133\n",
              "acc1      -0.099846 -0.003785 -0.000864  ...  0.219740  0.950150  -0.024125\n",
              "acc2       0.411052  0.147771  0.151336  ...  1.000000  0.294107  -0.802856\n",
              "acc3      -0.073951  0.010482  0.006523  ...  0.294107  1.000000  -0.106986\n",
              "timestamp -0.510719 -0.164420 -0.174436  ... -0.802856 -0.106986   1.000000\n",
              "\n",
              "[8 rows x 8 columns]"
            ]
          },
          "metadata": {
            "tags": []
          },
          "execution_count": 147
        }
      ]
    },
    {
      "cell_type": "code",
      "metadata": {
        "id": "5Mzzmj-bWSx3",
        "outputId": "d7101c81-02d4-48cc-e2e6-885126c64744",
        "colab": {
          "base_uri": "https://localhost:8080/",
          "height": 422
        }
      },
      "source": [
        "import seaborn as sns\n",
        "plt.figure(figsize=(8,6))\n",
        "sns.heatmap(corr, vmin=-1, vmax=1, annot=True, cmap=\"RdBu_r\")\n",
        "plt.show()"
      ],
      "execution_count": null,
      "outputs": [
        {
          "output_type": "display_data",
          "data": {
            "image/png": "[encoded data removed]",
            "text/plain": [
              "<Figure size 576x432 with 2 Axes>"
            ]
          },
          "metadata": {
            "tags": [],
            "needs_background": "light"
          }
        }
      ]
    },
    {
      "cell_type": "code",
      "metadata": {
        "id": "gYVEsaetWaHZ",
        "outputId": "1375ecd0-8d8e-4407-ef17-dcc17c99f70b",
        "colab": {
          "base_uri": "https://localhost:8080/",
          "height": 337
        }
      },
      "source": [
        "plt.figure(figsize=(10,5))\n",
        "plt.plot(df['channel1'], 'b')"
      ],
      "execution_count": null,
      "outputs": [
        {
          "output_type": "execute_result",
          "data": {
            "text/plain": [
              "[<matplotlib.lines.Line2D at 0x7f5783d029e8>]"
            ]
          },
          "metadata": {
            "tags": []
          },
          "execution_count": 149
        },
        {
          "output_type": "display_data",
          "data": {
            "image/png": "[encoded data removed]",
            "text/plain": [
              "<Figure size 720x360 with 1 Axes>"
            ]
          },
          "metadata": {
            "tags": [],
            "needs_background": "light"
          }
        }
      ]
    },
    {
      "cell_type": "code",
      "metadata": {
        "id": "r-e_4Q81ZG9p",
        "outputId": "c334b7cc-fea5-4e4d-ced2-7d774dda3d8c",
        "colab": {
          "base_uri": "https://localhost:8080/",
          "height": 337
        }
      },
      "source": [
        "plt.figure(figsize=(10,5))\n",
        "plt.plot(df['channel2'], 'b')"
      ],
      "execution_count": null,
      "outputs": [
        {
          "output_type": "execute_result",
          "data": {
            "text/plain": [
              "[<matplotlib.lines.Line2D at 0x7f5783ce72b0>]"
            ]
          },
          "metadata": {
            "tags": []
          },
          "execution_count": 150
        },
        {
          "output_type": "display_data",
          "data": {
            "image/png": "[encoded data removed]",
            "text/plain": [
              "<Figure size 720x360 with 1 Axes>"
            ]
          },
          "metadata": {
            "tags": [],
            "needs_background": "light"
          }
        }
      ]
    },
    {
      "cell_type": "code",
      "metadata": {
        "id": "twBa8_jyZRbe",
        "outputId": "f90c4119-2573-4465-bee3-0508a160d520",
        "colab": {
          "base_uri": "https://localhost:8080/",
          "height": 337
        }
      },
      "source": [
        "plt.figure(figsize=(10,5))\n",
        "plt.plot(df['channel3'], 'b')"
      ],
      "execution_count": null,
      "outputs": [
        {
          "output_type": "execute_result",
          "data": {
            "text/plain": [
              "[<matplotlib.lines.Line2D at 0x7f5783c434a8>]"
            ]
          },
          "metadata": {
            "tags": []
          },
          "execution_count": 151
        },
        {
          "output_type": "display_data",
          "data": {
            "image/png": "[encoded data removed]",
            "text/plain": [
              "<Figure size 720x360 with 1 Axes>"
            ]
          },
          "metadata": {
            "tags": [],
            "needs_background": "light"
          }
        }
      ]
    },
    {
      "cell_type": "code",
      "metadata": {
        "id": "_tRS_868ZWgs",
        "outputId": "92fbe7c3-5c86-4730-dba2-0e8800c78b78",
        "colab": {
          "base_uri": "https://localhost:8080/",
          "height": 337
        }
      },
      "source": [
        "plt.figure(figsize=(10,5))\n",
        "plt.plot(df['channel4'], 'b')"
      ],
      "execution_count": null,
      "outputs": [
        {
          "output_type": "execute_result",
          "data": {
            "text/plain": [
              "[<matplotlib.lines.Line2D at 0x7f5783c206d8>]"
            ]
          },
          "metadata": {
            "tags": []
          },
          "execution_count": 152
        },
        {
          "output_type": "display_data",
          "data": {
            "image/png": "[encoded data removed]",
            "text/plain": [
              "<Figure size 720x360 with 1 Axes>"
            ]
          },
          "metadata": {
            "tags": [],
            "needs_background": "light"
          }
        }
      ]
    },
    {
      "cell_type": "code",
      "metadata": {
        "id": "VXGaFmYCZXqx",
        "outputId": "5e23c523-fbb8-4fa8-b4b9-ada056b41d65",
        "colab": {
          "base_uri": "https://localhost:8080/",
          "height": 337
        }
      },
      "source": [
        "plt.figure(figsize=(10,5))\n",
        "plt.plot(df['acc1'], 'c')"
      ],
      "execution_count": null,
      "outputs": [
        {
          "output_type": "execute_result",
          "data": {
            "text/plain": [
              "[<matplotlib.lines.Line2D at 0x7f5783b7cf60>]"
            ]
          },
          "metadata": {
            "tags": []
          },
          "execution_count": 153
        },
        {
          "output_type": "display_data",
          "data": {
            "image/png": "[encoded data removed]",
            "text/plain": [
              "<Figure size 720x360 with 1 Axes>"
            ]
          },
          "metadata": {
            "tags": [],
            "needs_background": "light"
          }
        }
      ]
    },
    {
      "cell_type": "code",
      "metadata": {
        "id": "4Z718twpZbLF",
        "outputId": "387703c7-6180-4fb4-cd20-9ab5463f4396",
        "colab": {
          "base_uri": "https://localhost:8080/",
          "height": 339
        }
      },
      "source": [
        "plt.figure(figsize=(10,5))\n",
        "plt.plot(df['acc2'], 'c')"
      ],
      "execution_count": null,
      "outputs": [
        {
          "output_type": "execute_result",
          "data": {
            "text/plain": [
              "[<matplotlib.lines.Line2D at 0x7f5783b6a2b0>]"
            ]
          },
          "metadata": {
            "tags": []
          },
          "execution_count": 154
        },
        {
          "output_type": "display_data",
          "data": {
            "image/png": "[encoded data removed]",
            "text/plain": [
              "<Figure size 720x360 with 1 Axes>"
            ]
          },
          "metadata": {
            "tags": [],
            "needs_background": "light"
          }
        }
      ]
    },
    {
      "cell_type": "code",
      "metadata": {
        "id": "Yao3kMOaZh9P",
        "outputId": "02331fee-4330-4246-97df-03416af21949",
        "colab": {
          "base_uri": "https://localhost:8080/",
          "height": 337
        }
      },
      "source": [
        "plt.figure(figsize=(10,5))\n",
        "plt.plot(df['acc3'], 'c')"
      ],
      "execution_count": null,
      "outputs": [
        {
          "output_type": "execute_result",
          "data": {
            "text/plain": [
              "[<matplotlib.lines.Line2D at 0x7f5783ac6be0>]"
            ]
          },
          "metadata": {
            "tags": []
          },
          "execution_count": 155
        },
        {
          "output_type": "display_data",
          "data": {
            "image/png": "[encoded data removed]",
            "text/plain": [
              "<Figure size 720x360 with 1 Axes>"
            ]
          },
          "metadata": {
            "tags": [],
            "needs_background": "light"
          }
        }
      ]
    },
    {
      "cell_type": "code",
      "metadata": {
        "id": "jAr5GRCWZjJT"
      },
      "source": [
        "# Apply z-score.\n",
        "zchan1 = (df['channel1']-np.mean(df['channel1']))/np.std(df['channel1'])\n",
        "zchan2 = (df['channel2']-np.mean(df['channel2']))/np.std(df['channel2'])\n",
        "zchan3 = (df['channel3']-np.mean(df['channel3']))/np.std(df['channel3'])\n",
        "zchan4 = (df['channel4']-np.mean(df['channel4']))/np.std(df['channel4'])"
      ],
      "execution_count": null,
      "outputs": []
    },
    {
      "cell_type": "code",
      "metadata": {
        "id": "D6gNByhbdNr_"
      },
      "source": [
        "df['seconds_from_start'] = (df['timestamp']-df['timestamp'].iloc[0])/1000"
      ],
      "execution_count": null,
      "outputs": []
    },
    {
      "cell_type": "code",
      "metadata": {
        "id": "TNRBNSSIdTmI"
      },
      "source": [
        "y_labels = np.zeros((df['time_std'].shape[0],1))"
      ],
      "execution_count": null,
      "outputs": []
    },
    {
      "cell_type": "code",
      "metadata": {
        "id": "avj9w1OudWAS"
      },
      "source": [
        "# The first 30 seconds (from 12:52:31.069 to 12:53:00.000) were for calibration. \n",
        "# Thereafter, every 30 seconds consisted of eyes open/shut for a total of 5 of each condition.\n",
        "y_labels[(60<df.seconds_from_start)&(df.seconds_from_start<90)] = 1\n",
        "y_labels[(120<df.seconds_from_start)&(df.seconds_from_start<150)] = 1\n",
        "y_labels[(180<df.seconds_from_start)&(df.seconds_from_start<210)] = 1\n",
        "y_labels[(240<df.seconds_from_start)&(df.seconds_from_start<270)] = 1\n",
        "y_labels[(300<df.seconds_from_start)&(df.seconds_from_start<330)] = 1\n",
        "y_labels[(360<df.seconds_from_start)&(df.seconds_from_start<390)] = 1\n",
        "y_labels[(420<df.seconds_from_start)&(df.seconds_from_start<450)] = 1\n",
        "y_labels[(480<df.seconds_from_start)&(df.seconds_from_start<510)] = 1\n",
        "y_labels[(540<df.seconds_from_start)&(df.seconds_from_start<570)] = 1\n",
        "y_labels[(600<df.seconds_from_start)&(df.seconds_from_start<630)] = 1"
      ],
      "execution_count": null,
      "outputs": []
    },
    {
      "cell_type": "code",
      "metadata": {
        "id": "BMHav2OldpZ-",
        "outputId": "b5dfa5b3-0837-40fd-af59-09c2551cf3bd",
        "colab": {
          "base_uri": "https://localhost:8080/",
          "height": 337
        }
      },
      "source": [
        "plt.figure(figsize=(10,5))\n",
        "plt.plot(zchan2, 'b')\n",
        "plt.plot(y_labels,'r')"
      ],
      "execution_count": null,
      "outputs": [
        {
          "output_type": "execute_result",
          "data": {
            "text/plain": [
              "[<matplotlib.lines.Line2D at 0x7f5783cbd668>]"
            ]
          },
          "metadata": {
            "tags": []
          },
          "execution_count": 160
        },
        {
          "output_type": "display_data",
          "data": {
            "image/png": "[encoded data removed]",
            "text/plain": [
              "<Figure size 720x360 with 1 Axes>"
            ]
          },
          "metadata": {
            "tags": [],
            "needs_background": "light"
          }
        }
      ]
    },
    {
      "cell_type": "code",
      "metadata": {
        "id": "ZDTBK98saW7r",
        "outputId": "dc6e44cd-4f8f-4d0f-8ddc-a3d1bf354e41",
        "colab": {
          "base_uri": "https://localhost:8080/",
          "height": 34
        }
      },
      "source": [
        "# Remove 60 Hz line noize.\n",
        "fs = 200.0  # Sample frequency (Hz)\n",
        "f0 = 60.0  # Frequency to be removed from signal (Hz)\n",
        "Q = 30.0  # Quality factor\n",
        "# Design notch filter\n",
        "b, a = signal.iirnotch(f0, Q, fs)\n",
        "\n",
        "zchan1 = signal.filtfilt(b, a, zchan1)\n",
        "zchan2 = signal.filtfilt(b, a, zchan2)\n",
        "zchan3 = signal.filtfilt(b, a, zchan3)\n",
        "zchan4 = signal.filtfilt(b, a, zchan4)\n",
        "\n",
        "zchan1[np.abs(zchan1)>3] = np.nan\n",
        "zchan2[np.abs(zchan2)>3] = np.nan\n",
        "zchan3[np.abs(zchan3)>3] = np.nan\n",
        "zchan4[np.abs(zchan4)>3] = np.nan\n",
        "y_labels[(np.abs(zchan1)>3) | (np.abs(zchan2)>3) | (np.abs(zchan3)>3) | (np.abs(zchan4)>3)] = np.nan"
      ],
      "execution_count": null,
      "outputs": [
        {
          "output_type": "stream",
          "text": [
            "/usr/local/lib/python3.6/dist-packages/ipykernel_launcher.py:17: RuntimeWarning: invalid value encountered in greater\n"
          ],
          "name": "stderr"
        }
      ]
    },
    {
      "cell_type": "code",
      "metadata": {
        "id": "c9HjIC23cOmu"
      },
      "source": [
        "df['channel1'] = zchan1\n",
        "df['channel2'] = zchan2\n",
        "df['channel3'] = zchan3\n",
        "df['channel4'] = zchan4\n",
        "df['y_labels'] = y_labels"
      ],
      "execution_count": null,
      "outputs": []
    },
    {
      "cell_type": "code",
      "metadata": {
        "id": "ichElUTzb3II",
        "outputId": "2d63637f-b963-43fb-8309-b7012b24bede",
        "colab": {
          "base_uri": "https://localhost:8080/",
          "height": 279
        }
      },
      "source": [
        "X = df['channel2'].iloc[y_labels[:,0]==0] # Closed Eyes\n",
        "plt.psd(X[~np.isnan(X)], 512, Fs=200, color='r', label='Closed Eyes')\n",
        "X = df['channel2'].iloc[y_labels[:,0]==1] # Opened Eyes\n",
        "plt.psd(X[~np.isnan(X)], 512, Fs=200, color='b', label='Opened Eyes')\n",
        "plt.legend()\n",
        "plt.xlim(0,100)\n",
        "plt.show()"
      ],
      "execution_count": null,
      "outputs": [
        {
          "output_type": "display_data",
          "data": {
            "image/png": "[encoded data removed]",
            "text/plain": [
              "<Figure size 432x288 with 1 Axes>"
            ]
          },
          "metadata": {
            "tags": [],
            "needs_background": "light"
          }
        }
      ]
    }
  ]
}